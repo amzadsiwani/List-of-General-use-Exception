{
 "cells": [
  {
   "cell_type": "code",
   "execution_count": 1,
   "id": "4855995b-a131-4490-8dd9-c1c9ff81dffe",
   "metadata": {},
   "outputs": [
    {
     "name": "stdout",
     "output_type": "stream",
     "text": [
      "division by zero\n"
     ]
    }
   ],
   "source": [
    "try:\n",
    "    a = 10/0\n",
    "except ZeroDivisionError as e:\n",
    "    print(e)"
   ]
  },
  {
   "cell_type": "code",
   "execution_count": 2,
   "id": "8f1f9dd8-8dcd-4c33-89d2-15a3175b13de",
   "metadata": {},
   "outputs": [
    {
     "name": "stdout",
     "output_type": "stream",
     "text": [
      "invalid literal for int() with base 10: 'amzad'\n"
     ]
    }
   ],
   "source": [
    "try:\n",
    "    int(\"amzad\")\n",
    "except (ValueError , TypeError) as e:\n",
    "    print(e)"
   ]
  },
  {
   "cell_type": "code",
   "execution_count": 3,
   "id": "0b8cdfcd-a51e-4edf-a30d-de48cb88aaa2",
   "metadata": {},
   "outputs": [
    {
     "name": "stdout",
     "output_type": "stream",
     "text": [
      "this will catch an error\n"
     ]
    }
   ],
   "source": [
    "try:\n",
    "    int(\"amzad\")\n",
    "except:\n",
    "    print(\"this will catch an error\")"
   ]
  },
  {
   "cell_type": "code",
   "execution_count": 5,
   "id": "2e3b298f-d6f8-441c-a1f7-32870f7b55b9",
   "metadata": {},
   "outputs": [
    {
     "name": "stdout",
     "output_type": "stream",
     "text": [
      "No module named 'amzad'\n"
     ]
    },
    {
     "data": {
      "text/plain": [
       "2.5"
      ]
     },
     "execution_count": 5,
     "metadata": {},
     "output_type": "execute_result"
    }
   ],
   "source": [
    "try:\n",
    "    import amzad\n",
    "except ImportError as e:\n",
    "    print(e)\n",
    "10/4"
   ]
  },
  {
   "cell_type": "code",
   "execution_count": 6,
   "id": "d1b6d99e-6aa1-4e97-85c9-7883e16f39d3",
   "metadata": {},
   "outputs": [
    {
     "name": "stdout",
     "output_type": "stream",
     "text": [
      "'key2'\n"
     ]
    }
   ],
   "source": [
    "try:\n",
    "    d = {\"key\" : \"amzad\" , 1 : [2,3,4,5]}\n",
    "    print(d[\"key2\"])\n",
    "except KeyError as e:\n",
    "    print(e)\n",
    "                                    "
   ]
  },
  {
   "cell_type": "code",
   "execution_count": 7,
   "id": "c5ee7a30-a7fd-4040-9c1d-7f0625a723b6",
   "metadata": {},
   "outputs": [
    {
     "name": "stdout",
     "output_type": "stream",
     "text": [
      "'str' object has no attribute 'test'\n"
     ]
    }
   ],
   "source": [
    "try:\n",
    "    \"amzad\".test()\n",
    "except AttributeError as e:\n",
    "    print(e)"
   ]
  },
  {
   "cell_type": "code",
   "execution_count": 8,
   "id": "3d515350-e229-4d89-b0e7-21f184d115d9",
   "metadata": {},
   "outputs": [
    {
     "name": "stdout",
     "output_type": "stream",
     "text": [
      "list index out of range\n"
     ]
    }
   ],
   "source": [
    "try:\n",
    "    l = [2,3,4,5]\n",
    "    print(l[6])\n",
    "except IndexError as e:\n",
    "    print(e)"
   ]
  },
  {
   "cell_type": "code",
   "execution_count": 9,
   "id": "c7c6ba5a-09a1-4166-a28d-fe97186e76d6",
   "metadata": {},
   "outputs": [
    {
     "name": "stdout",
     "output_type": "stream",
     "text": [
      "unsupported operand type(s) for +: 'int' and 'str'\n"
     ]
    }
   ],
   "source": [
    "try:\n",
    "    123 + \"amzad\"\n",
    "except TypeError as e:\n",
    "    print(e)"
   ]
  },
  {
   "cell_type": "code",
   "execution_count": 10,
   "id": "72a3e971-4686-4018-88f6-06e18eb192f9",
   "metadata": {},
   "outputs": [
    {
     "name": "stdout",
     "output_type": "stream",
     "text": [
      "[Errno 2] No such file or directory: 'test.txt'\n"
     ]
    }
   ],
   "source": [
    "try:\n",
    "    with open(\"test.txt\" , 'r') as f:\n",
    "        test = f.read()\n",
    "except FileNotFoundError as e:\n",
    "    print(e)"
   ]
  },
  {
   "cell_type": "code",
   "execution_count": 12,
   "id": "9ba760a1-23fa-4dec-aae5-5ce6e79c2070",
   "metadata": {},
   "outputs": [
    {
     "name": "stdout",
     "output_type": "stream",
     "text": [
      "[Errno 2] No such file or directory: 'test.txt'\n"
     ]
    }
   ],
   "source": [
    "try:\n",
    "    with open(\"test.txt\" , 'r') as f:\n",
    "        test = f.read()\n",
    "except Exception as e:\n",
    "    print(e)\n",
    "except FileNotFoundError as e:\n",
    "    print(e)"
   ]
  },
  {
   "cell_type": "code",
   "execution_count": 13,
   "id": "55702a45-1b7a-4aed-a02a-f2945927b7cc",
   "metadata": {},
   "outputs": [
    {
     "ename": "IndentationError",
     "evalue": "expected an indented block after 'try' statement on line 2 (2014030164.py, line 3)",
     "output_type": "error",
     "traceback": [
      "\u001b[0;36m  Cell \u001b[0;32mIn[13], line 3\u001b[0;36m\u001b[0m\n\u001b[0;31m    with open(\"test.txt\" , 'r') as f:\u001b[0m\n\u001b[0m    ^\u001b[0m\n\u001b[0;31mIndentationError\u001b[0m\u001b[0;31m:\u001b[0m expected an indented block after 'try' statement on line 2\n"
     ]
    }
   ],
   "source": [
    "def test(file):\n",
    "    try:\n",
    "        with open(\"test.txt\" , 'r') as f:\n",
    "            test = f.read()\n",
    "    except Exception as e:\n",
    "        print(e)\n",
    "except FileNotFoundError as e:\n",
    "    print(\"test\" , e)\n",
    "   \n",
    "    "
   ]
  },
  {
   "cell_type": "code",
   "execution_count": null,
   "id": "fa693591-7ba8-46f6-a9eb-7810d511799e",
   "metadata": {},
   "outputs": [],
   "source": []
  }
 ],
 "metadata": {
  "kernelspec": {
   "display_name": "Python 3 (ipykernel)",
   "language": "python",
   "name": "python3"
  },
  "language_info": {
   "codemirror_mode": {
    "name": "ipython",
    "version": 3
   },
   "file_extension": ".py",
   "mimetype": "text/x-python",
   "name": "python",
   "nbconvert_exporter": "python",
   "pygments_lexer": "ipython3",
   "version": "3.10.8"
  }
 },
 "nbformat": 4,
 "nbformat_minor": 5
}
